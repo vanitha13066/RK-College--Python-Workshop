{
 "cells": [
  {
   "cell_type": "markdown",
   "id": "7cb68caf",
   "metadata": {},
   "source": [
    "- Type Conversions\n",
    "    \n",
    "    - Syntax\n",
    "    -----------------------------------\n",
    "     int    --    int(variable_name)\n",
    "     float  --    float(variable_name)\n",
    "     str    --    str(variable_name)"
   ]
  },
  {
   "cell_type": "code",
   "execution_count": 2,
   "id": "5d8cf1c2",
   "metadata": {},
   "outputs": [
    {
     "name": "stdout",
     "output_type": "stream",
     "text": [
      "78 <class 'int'>\n",
      "78.0 <class 'float'>\n"
     ]
    }
   ],
   "source": [
    "# int to float\n",
    "g = 78\n",
    "print(g,type(g))\n",
    "f = float(g)\n",
    "print(f,type(f))"
   ]
  },
  {
   "cell_type": "code",
   "execution_count": 4,
   "id": "62273d60",
   "metadata": {},
   "outputs": [
    {
     "name": "stdout",
     "output_type": "stream",
     "text": [
      "7.8 <class 'float'>\n",
      "7 <class 'int'>\n"
     ]
    }
   ],
   "source": [
    "# float to int\n",
    "g1 = 7.8\n",
    "print(g1,type(g1))\n",
    "f1 = int(g1)\n",
    "print(f1,type(f1))"
   ]
  },
  {
   "cell_type": "code",
   "execution_count": 5,
   "id": "03786b00",
   "metadata": {},
   "outputs": [
    {
     "name": "stdout",
     "output_type": "stream",
     "text": [
      "89 <class 'int'>\n",
      "89 <class 'str'>\n"
     ]
    }
   ],
   "source": [
    "# int to str\n",
    "j = 89\n",
    "print(j,type(j))\n",
    "j1 = str(j)\n",
    "print(j1,type(j1))"
   ]
  },
  {
   "cell_type": "markdown",
   "id": "857737f3",
   "metadata": {},
   "source": [
    "- string to int not possible"
   ]
  },
  {
   "cell_type": "markdown",
   "id": "0dc491aa",
   "metadata": {},
   "source": [
    "## Operators\n",
    "- Arithmetic :--    +,-,*,/,%,//(floor),power(**)\n",
    "- Assignment  :-  =,+=,-=,*=,.....\n",
    "- Comparision/Relational :-  ==,!=,<,>,<=,>=\n",
    "- Logical   :-  and,or,not\n",
    "- Bitwise  :-   &,|,^(xor),<<,>>,~\n",
    "- Membership :-  in,not in\n",
    "- Identity :-  is,is not"
   ]
  },
  {
   "cell_type": "markdown",
   "id": "e487ef9a",
   "metadata": {},
   "source": [
    "- Arithmetic :--    +,-,*,/,%,//(floor),power(**)\n",
    "   - Used to perform mathematical operations"
   ]
  },
  {
   "cell_type": "code",
   "execution_count": 14,
   "id": "6dd9b402",
   "metadata": {},
   "outputs": [
    {
     "name": "stdout",
     "output_type": "stream",
     "text": [
      "13 -1 42\n"
     ]
    }
   ],
   "source": [
    "a,b = 6,7\n",
    "print(a+b,a-b,a*b)"
   ]
  },
  {
   "cell_type": "code",
   "execution_count": 24,
   "id": "aafd3aba",
   "metadata": {},
   "outputs": [
    {
     "name": "stdout",
     "output_type": "stream",
     "text": [
      "0.8571428571428571 0 6 216\n"
     ]
    }
   ],
   "source": [
    "print(a/b,a//b,a%b,a**3)"
   ]
  },
  {
   "cell_type": "markdown",
   "id": "597fbc04",
   "metadata": {},
   "source": [
    "- Assignment  :-  =,+=,-=,*=,.....\n",
    "    - Used to assign values to the variables"
   ]
  },
  {
   "cell_type": "code",
   "execution_count": 27,
   "id": "cc8da302",
   "metadata": {
    "collapsed": true
   },
   "outputs": [
    {
     "name": "stdout",
     "output_type": "stream",
     "text": [
      "14\n"
     ]
    }
   ],
   "source": [
    "a = 8\n",
    "a += 6   # a=a+6=8+6=14\n",
    "print(a)"
   ]
  },
  {
   "cell_type": "code",
   "execution_count": 28,
   "id": "a11be6dc",
   "metadata": {},
   "outputs": [
    {
     "data": {
      "text/plain": [
       "-6"
      ]
     },
     "execution_count": 28,
     "metadata": {},
     "output_type": "execute_result"
    }
   ],
   "source": [
    "b = 8\n",
    "b -= a   # -6\n",
    "b"
   ]
  },
  {
   "cell_type": "code",
   "execution_count": 29,
   "id": "07038c5f",
   "metadata": {},
   "outputs": [
    {
     "name": "stdout",
     "output_type": "stream",
     "text": [
      "-54\n"
     ]
    }
   ],
   "source": [
    "c = 9\n",
    "c *= b\n",
    "print(c)"
   ]
  },
  {
   "cell_type": "markdown",
   "id": "adfc5c32",
   "metadata": {},
   "source": [
    "-  Comparision/Relational :-  ==,!=,<,>,<=,>=\n",
    "    - Used to compare the values"
   ]
  },
  {
   "cell_type": "code",
   "execution_count": 34,
   "id": "47201c1f",
   "metadata": {},
   "outputs": [
    {
     "name": "stdout",
     "output_type": "stream",
     "text": [
      "False True False\n",
      "True False\n"
     ]
    }
   ],
   "source": [
    "a,b = 8,6\n",
    "print(a==b,a>b,a<b)\n",
    "print(a>=b,a<=b)"
   ]
  },
  {
   "cell_type": "code",
   "execution_count": null,
   "id": "fde3f4c2",
   "metadata": {},
   "outputs": [],
   "source": [
    "### Logical Operators :-  and,or,not\n",
    "-----------------------------------------\n",
    "Truth table of logical and operator\n",
    "----------------------------------------------\n",
    "a b a and b   a or b\n",
    "---------------------\n",
    "T T       T     T\n",
    "T F       F     T\n",
    "F T       F     T\n",
    "F F       F     F"
   ]
  },
  {
   "cell_type": "code",
   "execution_count": 37,
   "id": "e2251956",
   "metadata": {},
   "outputs": [
    {
     "name": "stdout",
     "output_type": "stream",
     "text": [
      "True\n",
      "False\n"
     ]
    }
   ],
   "source": [
    "# logical and \n",
    "x,y = 8,5\n",
    "print(x>y and x!=y)  # T and T\n",
    "print(x<y and x!=y)   # F T"
   ]
  },
  {
   "cell_type": "code",
   "execution_count": 38,
   "id": "6746494e",
   "metadata": {},
   "outputs": [
    {
     "name": "stdout",
     "output_type": "stream",
     "text": [
      "True\n",
      "True\n"
     ]
    }
   ],
   "source": [
    "x,y = 8,5\n",
    "print(x>y or x==y)  # T or F\n",
    "print(x<y or x!=y)   # F T"
   ]
  },
  {
   "cell_type": "code",
   "execution_count": 40,
   "id": "3adf717c",
   "metadata": {},
   "outputs": [
    {
     "name": "stdout",
     "output_type": "stream",
     "text": [
      "False\n"
     ]
    }
   ],
   "source": [
    "# not operator\n",
    "print(not(x>y))"
   ]
  },
  {
   "cell_type": "code",
   "execution_count": 42,
   "id": "64e3af3f",
   "metadata": {},
   "outputs": [
    {
     "data": {
      "text/plain": [
       "'0b110010'"
      ]
     },
     "execution_count": 42,
     "metadata": {},
     "output_type": "execute_result"
    }
   ],
   "source": [
    "# Bitwise operators\n",
    "bin(50)"
   ]
  },
  {
   "cell_type": "code",
   "execution_count": null,
   "id": "0f76abaf",
   "metadata": {},
   "outputs": [],
   "source": [
    "Bitwise operators Truth tables\n",
    "----------------------------\n",
    "a b a&b a|b a^b\n",
    "--------------------\n",
    "0 0 0    0   0\n",
    "0 1 0    1   1\n",
    "1 0 0    1   1\n",
    "1 1 1    1   0"
   ]
  },
  {
   "cell_type": "code",
   "execution_count": 46,
   "id": "e5778e2c",
   "metadata": {},
   "outputs": [
    {
     "name": "stdout",
     "output_type": "stream",
     "text": [
      "0 30 30\n"
     ]
    }
   ],
   "source": [
    "a,b = 10,20\n",
    "print(a&b,a|b,a^b)"
   ]
  },
  {
   "cell_type": "code",
   "execution_count": null,
   "id": "4a8667b6",
   "metadata": {},
   "outputs": [],
   "source": [
    "Task 1---> Left shift and right shift"
   ]
  },
  {
   "cell_type": "markdown",
   "id": "ba046b95",
   "metadata": {},
   "source": [
    "- Membership Operators:  in,not in \n",
    "    --> These operators are used to check whether a value/character\n",
    "    is presented in sequence or not\n",
    "    - sequence:-  string,list,tuple,dict,set"
   ]
  },
  {
   "cell_type": "code",
   "execution_count": 56,
   "id": "a7b086c4",
   "metadata": {},
   "outputs": [
    {
     "name": "stdout",
     "output_type": "stream",
     "text": [
      "workshop <class 'str'>\n",
      "True False False\n",
      "True False True\n",
      "True True True\n"
     ]
    }
   ],
   "source": [
    "# in,not in\n",
    "s = \"workshop\"\n",
    "print(s,type(s))\n",
    "print(\"p\" in s,'z' in s,'y' in s)\n",
    "print('z' not in s,'o' not in s,'w' in s)\n",
    "print('work' in s,'wos' not in s,'sho' in s)"
   ]
  },
  {
   "cell_type": "code",
   "execution_count": 64,
   "id": "904696b8",
   "metadata": {
    "collapsed": true
   },
   "outputs": [
    {
     "name": "stdout",
     "output_type": "stream",
     "text": [
      "140733939749800 140733939749832\n",
      "False True\n",
      "140733939749800 1671684973776\n",
      "False True\n"
     ]
    }
   ],
   "source": [
    "# Identity operators:-   is,is not\n",
    "    # - Used to check memory locations of the objects\n",
    "a,b = 5,6\n",
    "print(id(a),id(b))\n",
    "print(a is b, a is not b)\n",
    "a1,b1 = 5,5.0\n",
    "print(id(a1),id(b1))\n",
    "print(a1 is b1,a1 is not b1)"
   ]
  },
  {
   "cell_type": "markdown",
   "id": "82337a7a",
   "metadata": {},
   "source": [
    "## Conditional Statements`\n",
    "     - Decision making (or) To check the conditions\n",
    "     \n",
    "   - Types of conditional statements\n",
    "     -----------------------------------------\n",
    "     - if\n",
    "     - if else\n",
    "     - elif\n",
    "     - nested if"
   ]
  },
  {
   "cell_type": "code",
   "execution_count": null,
   "id": "b418d2bb",
   "metadata": {},
   "outputs": [],
   "source": [
    "- Syntax for if statement\n",
    "----------------------------------\n",
    "if(condition):(T)\n",
    "    statements"
   ]
  },
  {
   "cell_type": "code",
   "execution_count": 11,
   "id": "737edee2",
   "metadata": {},
   "outputs": [
    {
     "name": "stdout",
     "output_type": "stream",
     "text": [
      "2\n"
     ]
    }
   ],
   "source": [
    "## I/P: 7     # I/P: 6\n",
    "## O/P: ODD\n",
    "n = int(input())\n",
    "if(n%2==1):\n",
    "    print(\"odd\")"
   ]
  },
  {
   "cell_type": "code",
   "execution_count": 13,
   "id": "b8b30ffe",
   "metadata": {},
   "outputs": [
    {
     "name": "stdout",
     "output_type": "stream",
     "text": [
      "-5\n"
     ]
    }
   ],
   "source": [
    "n1 = int(input())\n",
    "if(n1>0):\n",
    "    print(\"Positive\")"
   ]
  },
  {
   "cell_type": "markdown",
   "id": "eae60ac7",
   "metadata": {},
   "source": [
    "#### Syntax for if else statement\n",
    "--------------------------------\n",
    "if(condition):\n",
    "    statements\n",
    "else:\n",
    "    statements"
   ]
  },
  {
   "cell_type": "code",
   "execution_count": 67,
   "id": "04206160",
   "metadata": {},
   "outputs": [
    {
     "name": "stdout",
     "output_type": "stream",
     "text": [
      "7\n",
      "odd\n"
     ]
    }
   ],
   "source": [
    "n = int(input())\n",
    "if(n%2==1):\n",
    "    print(\"odd\")\n",
    "else:\n",
    "    print(\"even\")"
   ]
  },
  {
   "cell_type": "code",
   "execution_count": 69,
   "id": "0994a736",
   "metadata": {
    "collapsed": true
   },
   "outputs": [
    {
     "name": "stdout",
     "output_type": "stream",
     "text": [
      "-5\n",
      "Negative\n"
     ]
    }
   ],
   "source": [
    "n1 = int(input())\n",
    "if(n1>0):\n",
    "    print(\"Positive\")\n",
    "else:\n",
    "    print(\"Negative\")"
   ]
  },
  {
   "cell_type": "code",
   "execution_count": 75,
   "id": "e6b2590f",
   "metadata": {},
   "outputs": [
    {
     "name": "stdout",
     "output_type": "stream",
     "text": [
      "12\n",
      "Not eligible for vote\n"
     ]
    }
   ],
   "source": [
    "age = int(input())\n",
    "if(age>18):\n",
    "    print(\"Eligible for vote\")\n",
    "else:\n",
    "    print(\"Not eligible for vote\")"
   ]
  },
  {
   "cell_type": "code",
   "execution_count": 72,
   "id": "1db77823",
   "metadata": {},
   "outputs": [
    {
     "name": "stdout",
     "output_type": "stream",
     "text": [
      "49\n",
      "49 is divisible by 7\n"
     ]
    }
   ],
   "source": [
    "# Divisible by 7\n",
    "n = int(input())\n",
    "if(n%7==0):\n",
    "    print(n,\"is divisible by 7\")\n",
    "else:\n",
    "    print(n,\"is not divisible by 7\")"
   ]
  },
  {
   "cell_type": "code",
   "execution_count": 76,
   "id": "c82c4b5c",
   "metadata": {},
   "outputs": [
    {
     "name": "stdout",
     "output_type": "stream",
     "text": [
      "45\n",
      "45 is not divisible by 5 and 10\n"
     ]
    }
   ],
   "source": [
    "# Divisible by both 5,10\n",
    "n = int(input())\n",
    "if(n%5==0 and n%10==0):\n",
    "    print(n,\"is divisible by 5 and 10\")\n",
    "else:\n",
    "    print(n,\"is not divisible by 5 and 10\")"
   ]
  },
  {
   "cell_type": "code",
   "execution_count": null,
   "id": "522b08c4",
   "metadata": {},
   "outputs": [],
   "source": [
    "# Syntax for elif statement\n",
    "-------------------------------------\n",
    "if(condition1):\n",
    "    statements\n",
    "elif(condition2):\n",
    "    statements\n",
    "elif(condition3):\n",
    "    statements\n",
    ".............\n",
    "else:\n",
    "    statements"
   ]
  },
  {
   "cell_type": "code",
   "execution_count": 3,
   "id": "990d57df",
   "metadata": {},
   "outputs": [
    {
     "name": "stdout",
     "output_type": "stream",
     "text": [
      "8\n",
      "Invalid\n"
     ]
    }
   ],
   "source": [
    "week = int(input())\n",
    "if(week==0):\n",
    "    print(\"Sunday\")\n",
    "elif(week==1):\n",
    "    print(\"Monday\")\n",
    "elif(week==2):\n",
    "    print(\"Tuesday\")\n",
    "elif(week==3):\n",
    "    print(\"Wednesday\")\n",
    "elif(week==4):\n",
    "    print(\"Thursday\")\n",
    "elif(week==5):\n",
    "    print(\"Friday\")\n",
    "elif(week==6):\n",
    "    print(\"Saturday\")\n",
    "else:\n",
    "    print(\"Invalid\")"
   ]
  },
  {
   "cell_type": "code",
   "execution_count": 4,
   "id": "35fbcc16",
   "metadata": {
    "collapsed": true
   },
   "outputs": [
    {
     "name": "stdout",
     "output_type": "stream",
     "text": [
      "78\n",
      "598\n",
      "44\n",
      "598 is big\n"
     ]
    }
   ],
   "source": [
    "a,b,c = int(input()),int(input()),int(input())\n",
    "if(a>b and a>c):\n",
    "    print(a,\"is big\")\n",
    "elif(b>c):\n",
    "    print(b,\"is big\")\n",
    "else:\n",
    "    print(c,\"is big\")"
   ]
  },
  {
   "cell_type": "markdown",
   "id": "823420ec",
   "metadata": {},
   "source": [
    "Task-2\n",
    "-----------------------------\n",
    "90-100 -> Excellent\n",
    "80-89 ---> Good\n",
    "70-79 --> A Grade\n",
    "60-69 --> B grade\n",
    "50-59 --> C grade\n",
    "40-49 --> D grade\n",
    "below 40 --> fail"
   ]
  },
  {
   "cell_type": "code",
   "execution_count": 10,
   "id": "28164210",
   "metadata": {},
   "outputs": [
    {
     "name": "stdout",
     "output_type": "stream",
     "text": [
      "Enter any month: JKDHFGJH\n",
      "Invalid\n"
     ]
    }
   ],
   "source": [
    "# i/p: may\n",
    "# o/p: may has 31 days\n",
    "month = input('Enter any month: ')\n",
    "days_30 = ['april','june','september','november']\n",
    "days_31 = ['january','march','may','july','august','october',\n",
    "          'december']\n",
    "if month in days_30:\n",
    "    print(month,\"has 30 days\")\n",
    "elif month in days_31:\n",
    "    print(month,\"has 31 days\")\n",
    "elif(month=='february'):\n",
    "    print(month,\"has 28/29 days\")\n",
    "else:\n",
    "    print(\"Invalid\")"
   ]
  },
  {
   "cell_type": "markdown",
   "id": "0161f163",
   "metadata": {},
   "source": [
    "### nested if statement\n",
    "--------------------------------\n",
    "if(condition):  # F\n",
    "    statements\n",
    "    if(condition):\n",
    "        statements\n",
    "    else:\n",
    "        statements\n",
    "else:\n",
    "    statements"
   ]
  },
  {
   "cell_type": "code",
   "execution_count": null,
   "id": "b9c23c7e",
   "metadata": {},
   "outputs": [],
   "source": [
    "# I/P: 6\n",
    "       even\n",
    "       10> square : 36\n",
    "       10< -- cube --  216\n",
    "# i/p: 7\n",
    "o/p: odd"
   ]
  },
  {
   "cell_type": "code",
   "execution_count": 15,
   "id": "85bedf7c",
   "metadata": {
    "collapsed": true
   },
   "outputs": [
    {
     "name": "stdout",
     "output_type": "stream",
     "text": [
      "12\n",
      "even\n",
      "144\n"
     ]
    }
   ],
   "source": [
    "n = int(input())\n",
    "if(n%2==0):\n",
    "    print(\"even\")\n",
    "    if(n>10):\n",
    "        print(n**2)\n",
    "    else:\n",
    "        print(n**3)\n",
    "else:\n",
    "    print(\"odd\")"
   ]
  },
  {
   "cell_type": "markdown",
   "id": "f4f47e87",
   "metadata": {},
   "source": [
    "### Loops\n",
    "    - for \n",
    "    - while\n",
    "    "
   ]
  },
  {
   "cell_type": "code",
   "execution_count": null,
   "id": "70cbccd0",
   "metadata": {},
   "outputs": [],
   "source": [
    "# for loop\n",
    "    - It is used to iterate over a sequence"
   ]
  },
  {
   "cell_type": "code",
   "execution_count": null,
   "id": "01968467",
   "metadata": {},
   "outputs": [],
   "source": [
    "- Syntax for for loop\n",
    "----------------------\n",
    "for value in range(start,end,step_count):\n",
    "    statements"
   ]
  },
  {
   "cell_type": "code",
   "execution_count": 19,
   "id": "0343aac6",
   "metadata": {},
   "outputs": [
    {
     "name": "stdout",
     "output_type": "stream",
     "text": [
      "1 2 3 4 5 6 7 8 9 10 "
     ]
    }
   ],
   "source": [
    "# print natural numbers from 1 to 10\n",
    "for i in range(1,11,1):\n",
    "    print(i,end= ' ')"
   ]
  },
  {
   "cell_type": "code",
   "execution_count": 23,
   "id": "69294ff4",
   "metadata": {},
   "outputs": [
    {
     "name": "stdout",
     "output_type": "stream",
     "text": [
      "1 3 5 7 9 "
     ]
    }
   ],
   "source": [
    "for i in range(1,11,2):\n",
    "    print(i,end= ' ')"
   ]
  },
  {
   "cell_type": "code",
   "execution_count": 21,
   "id": "88ce96df",
   "metadata": {},
   "outputs": [
    {
     "name": "stdout",
     "output_type": "stream",
     "text": [
      "0 1 2 3 4 5 6 7 8 9 10 "
     ]
    }
   ],
   "source": [
    "for i in range(11):\n",
    "    print(i,end= ' ')"
   ]
  },
  {
   "cell_type": "code",
   "execution_count": 24,
   "id": "f3c40835",
   "metadata": {},
   "outputs": [
    {
     "name": "stdout",
     "output_type": "stream",
     "text": [
      "40 41 42 43 44 45 46 47 48 49 50 51 52 53 54 55 56 57 58 59 60 61 62 63 64 65 66 67 68 69 70 71 72 73 74 75 76 77 78 79 80 81 82 83 84 85 86 87 88 89 90 91 92 93 94 95 96 97 98 99 100 "
     ]
    }
   ],
   "source": [
    "for i in range(40,101):\n",
    "    print(i,end= ' ')"
   ]
  },
  {
   "cell_type": "code",
   "execution_count": 27,
   "id": "bc0ec18d",
   "metadata": {},
   "outputs": [
    {
     "name": "stdout",
     "output_type": "stream",
     "text": [
      "10 9 8 7 6 5 4 3 2 1 "
     ]
    }
   ],
   "source": [
    "for i in range(10,0,-1):\n",
    "    print(i,end= ' ')"
   ]
  },
  {
   "cell_type": "code",
   "execution_count": 28,
   "id": "66a71dcb",
   "metadata": {},
   "outputs": [
    {
     "name": "stdout",
     "output_type": "stream",
     "text": [
      "10 8 6 4 2 "
     ]
    }
   ],
   "source": [
    "for i in range(10,0,-2):\n",
    "    print(i,end= ' ')"
   ]
  },
  {
   "cell_type": "code",
   "execution_count": 33,
   "id": "3659ff15",
   "metadata": {
    "scrolled": true
   },
   "outputs": [
    {
     "name": "stdout",
     "output_type": "stream",
     "text": [
      "name name name name name name name name name name name name name name name name name name name name name name name name name name name name name name name name name name name name name name name name name name name name name name name name name name "
     ]
    }
   ],
   "source": [
    "for i in range(50):\n",
    "    print(\"name\",end= ' ')"
   ]
  },
  {
   "cell_type": "code",
   "execution_count": 36,
   "id": "57f39d22",
   "metadata": {},
   "outputs": [
    {
     "name": "stdout",
     "output_type": "stream",
     "text": [
      "starting range: 34\n",
      "Ending range: 90\n",
      "Step count: 3\n",
      "34 37 40 43 46 49 52 55 58 61 64 67 70 73 76 79 82 85 88 "
     ]
    }
   ],
   "source": [
    "s,e,st=int(input('starting range: ')),int(input('Ending range: ')),int(input('Step count: '))\n",
    "for i in range(s,e,st):\n",
    "    print(i,end=' ')"
   ]
  },
  {
   "cell_type": "code",
   "execution_count": 39,
   "id": "68c179c9",
   "metadata": {},
   "outputs": [
    {
     "name": "stdout",
     "output_type": "stream",
     "text": [
      "55\n"
     ]
    }
   ],
   "source": [
    "# 1 to 10 numbers total\n",
    "# 55\n",
    "t = 0\n",
    "for i in range(1,11):   # i=3\n",
    "    t = t+i   # 0+1=1 1+2=3 3+3= 6+4=10+5=15+6=21+7=28...55\n",
    "print(t)"
   ]
  },
  {
   "cell_type": "code",
   "execution_count": 41,
   "id": "2e2b31d3",
   "metadata": {
    "collapsed": true
   },
   "outputs": [
    {
     "name": "stdout",
     "output_type": "stream",
     "text": [
      "7\n",
      "5040\n"
     ]
    }
   ],
   "source": [
    "# 5 = 5*4*3*2*1=120\n",
    "# 5 = 1*2*3*4*5\n",
    "# factorial of any number\n",
    "p = 1\n",
    "n = int(input())\n",
    "for i in range(1,n+1):  # i= 2\n",
    "    p = p*i   # 1*1=1 1*2=2 2*3=6 6*4=24 24*5=120 \n",
    "print(p)"
   ]
  },
  {
   "cell_type": "code",
   "execution_count": 43,
   "id": "e0f25d89",
   "metadata": {},
   "outputs": [
    {
     "name": "stdout",
     "output_type": "stream",
     "text": [
      "20\n",
      "1 2 4 5 10 20 "
     ]
    }
   ],
   "source": [
    "# how to find factors of any number\n",
    "# 10 -- 1 2 5 10\n",
    "n = int(input())\n",
    "for i in range(1,n+1):\n",
    "    if(n%i==0):\n",
    "        print(i,end=' ')"
   ]
  },
  {
   "cell_type": "code",
   "execution_count": 49,
   "id": "93d81f58",
   "metadata": {},
   "outputs": [
    {
     "name": "stdout",
     "output_type": "stream",
     "text": [
      "5\n",
      "Factors count:  2\n",
      "Prime\n"
     ]
    }
   ],
   "source": [
    "n = int(input())\n",
    "f_count = 0\n",
    "for i in range(1,n+1):\n",
    "    if(n%i==0):\n",
    "        f_count=f_count+1\n",
    "print(\"Factors count: \",f_count)\n",
    "if(f_count==2):\n",
    "    print('Prime')\n",
    "else:\n",
    "    print(\"not a prime\")"
   ]
  },
  {
   "cell_type": "code",
   "execution_count": 50,
   "id": "e55d6364",
   "metadata": {},
   "outputs": [
    {
     "data": {
      "text/plain": [
       "97"
      ]
     },
     "execution_count": 50,
     "metadata": {},
     "output_type": "execute_result"
    }
   ],
   "source": [
    "ord('a')"
   ]
  },
  {
   "cell_type": "code",
   "execution_count": 51,
   "id": "b542693d",
   "metadata": {},
   "outputs": [
    {
     "data": {
      "text/plain": [
       "65"
      ]
     },
     "execution_count": 51,
     "metadata": {},
     "output_type": "execute_result"
    }
   ],
   "source": [
    "ord('A')"
   ]
  },
  {
   "cell_type": "code",
   "execution_count": 52,
   "id": "a8515749",
   "metadata": {},
   "outputs": [
    {
     "data": {
      "text/plain": [
       "54"
      ]
     },
     "execution_count": 52,
     "metadata": {},
     "output_type": "execute_result"
    }
   ],
   "source": [
    "ord('6')"
   ]
  },
  {
   "cell_type": "code",
   "execution_count": 55,
   "id": "0654ea55",
   "metadata": {},
   "outputs": [
    {
     "name": "stdout",
     "output_type": "stream",
     "text": [
      "a b c d e f g h i j k l m n o p q r s t u v w x y z \n",
      "A B C D E F G H I J K L M N O P Q R S T U V W X Y Z "
     ]
    }
   ],
   "source": [
    "for i in range(ord('a'),ord('z')+1):\n",
    "    print(chr(i),end=' ')\n",
    "print()\n",
    "for i in range(ord('A'),ord('Z')+1):\n",
    "    print(chr(i),end=' ')"
   ]
  },
  {
   "cell_type": "code",
   "execution_count": null,
   "id": "1928dc56",
   "metadata": {},
   "outputs": [],
   "source": [
    "# Task-3\n",
    "# i/p: 8\n",
    "# o/p: perfect\n",
    "\n",
    "# 6= 1 2 3 6 = 1+2+3=6"
   ]
  }
 ],
 "metadata": {
  "kernelspec": {
   "display_name": "Python 3 (ipykernel)",
   "language": "python",
   "name": "python3"
  },
  "language_info": {
   "codemirror_mode": {
    "name": "ipython",
    "version": 3
   },
   "file_extension": ".py",
   "mimetype": "text/x-python",
   "name": "python",
   "nbconvert_exporter": "python",
   "pygments_lexer": "ipython3",
   "version": "3.11.5"
  }
 },
 "nbformat": 4,
 "nbformat_minor": 5
}
