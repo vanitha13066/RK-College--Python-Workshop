{
 "cells": [
  {
   "cell_type": "code",
   "execution_count": 3,
   "id": "c4ddfde8",
   "metadata": {},
   "outputs": [
    {
     "name": "stdout",
     "output_type": "stream",
     "text": [
      "hiii\n"
     ]
    }
   ],
   "source": [
    "print(\"hiii\")"
   ]
  },
  {
   "cell_type": "code",
   "execution_count": null,
   "id": "35c070e6",
   "metadata": {},
   "outputs": [],
   "source": [
    "print(\"726372\")"
   ]
  },
  {
   "cell_type": "markdown",
   "id": "27d7852d",
   "metadata": {},
   "source": [
    "# Heading 1\n",
    "## Heading 2\n",
    "### Heading 3\n",
    "#### Heading 4\n",
    "##### Heading 5\n",
    "###### Heading 6"
   ]
  },
  {
   "cell_type": "markdown",
   "id": "17eaa480",
   "metadata": {},
   "source": [
    "### Font styles\n",
    "- bold\n",
    "- italic"
   ]
  },
  {
   "cell_type": "markdown",
   "id": "c9bc12b2",
   "metadata": {},
   "source": [
    "**This is bold text**     "
   ]
  },
  {
   "cell_type": "markdown",
   "id": "8c370b23",
   "metadata": {},
   "source": [
    "*This is italic text*"
   ]
  },
  {
   "cell_type": "markdown",
   "id": "966c4012",
   "metadata": {},
   "source": [
    "- list\n",
    "    - sublist1\n",
    "    - sublist2\n",
    "    - sublist3"
   ]
  },
  {
   "cell_type": "markdown",
   "id": "c9ee7609",
   "metadata": {},
   "source": [
    "***this is bold and italic***"
   ]
  },
  {
   "cell_type": "markdown",
   "id": "24a6b308",
   "metadata": {},
   "source": [
    "- Languages\n",
    "    - R\n",
    "    - C\n",
    "        - PYTHON\n",
    "        - JAVA\n",
    "        - C++  "
   ]
  },
  {
   "cell_type": "markdown",
   "id": "5a8eeca3",
   "metadata": {},
   "source": [
    "#### Image Display\n",
    "<img src = \"pic1.jpg\">"
   ]
  },
  {
   "cell_type": "markdown",
   "id": "81d4ab04",
   "metadata": {},
   "source": [
    "#### Keyword\n",
    "     - Reserved words in python\n",
    "     - Every keyword has it's special meaning      "
   ]
  },
  {
   "cell_type": "code",
   "execution_count": 1,
   "id": "69ed7758",
   "metadata": {
    "collapsed": true
   },
   "outputs": [
    {
     "name": "stdout",
     "output_type": "stream",
     "text": [
      "['False', 'None', 'True', 'and', 'as', 'assert', 'async', 'await', 'break', 'class', 'continue', 'def', 'del', 'elif', 'else', 'except', 'finally', 'for', 'from', 'global', 'if', 'import', 'in', 'is', 'lambda', 'nonlocal', 'not', 'or', 'pass', 'raise', 'return', 'try', 'while', 'with', 'yield']\n"
     ]
    }
   ],
   "source": [
    "# How to print keywords in python\n",
    "import keyword\n",
    "print(keyword.kwlist)"
   ]
  },
  {
   "cell_type": "code",
   "execution_count": 2,
   "id": "608b2fe1",
   "metadata": {
    "collapsed": true
   },
   "outputs": [
    {
     "name": "stdout",
     "output_type": "stream",
     "text": [
      "35\n"
     ]
    }
   ],
   "source": [
    "# How to find length of the keywords in python\n",
    "import keyword\n",
    "print(len(keyword.kwlist))"
   ]
  },
  {
   "cell_type": "markdown",
   "id": "353f4fc7",
   "metadata": {},
   "source": [
    "## Comments in python\n",
    "    - comments are used to stop the execution\n",
    "    \n",
    "    - 2 types of comments\n",
    "         1.single line comment\n",
    "         2.multiline comment"
   ]
  },
  {
   "cell_type": "markdown",
   "id": "6ed49522",
   "metadata": {},
   "source": [
    "#### single line comment\n",
    "##### print(\"hello\")\n",
    "print(\"35873\")"
   ]
  },
  {
   "cell_type": "code",
   "execution_count": 6,
   "id": "b14ba77c",
   "metadata": {
    "collapsed": true
   },
   "outputs": [
    {
     "name": "stdout",
     "output_type": "stream",
     "text": [
      "2786347\n"
     ]
    }
   ],
   "source": [
    "# multiline comment\n",
    "'''jlkhtlkwejrlk\n",
    "wejkrhjkehrjk\n",
    "ugjhksdjkdjg\n",
    "jkdhfjkshdjsh\n",
    "jkhdjksh\n",
    "'''\n",
    "print(\"2786347\")"
   ]
  },
  {
   "cell_type": "markdown",
   "id": "96f4d2bf",
   "metadata": {},
   "source": [
    "-  Variable\n",
    "    - Which is used to store the data\n",
    "- How to create a variable\n",
    "  - Rules to create a variable\n",
    "     - Variable name should starts with alphabets\n",
    "     - Shouldn't starts with numbers,special symbols\n",
    "         except(_)--> underscore\n",
    "     - Shouldn't use keywords as variable names\n",
    "     - Shouldn't use spaces while creating a variable\n",
    "     "
   ]
  },
  {
   "cell_type": "code",
   "execution_count": 8,
   "id": "31df2a5b",
   "metadata": {
    "collapsed": true
   },
   "outputs": [
    {
     "name": "stdout",
     "output_type": "stream",
     "text": [
      "78\n"
     ]
    }
   ],
   "source": [
    "a = 78  # Static way of taking input\n",
    "print(a)"
   ]
  },
  {
   "cell_type": "code",
   "execution_count": 10,
   "id": "b89f790a",
   "metadata": {},
   "outputs": [
    {
     "ename": "SyntaxError",
     "evalue": "invalid decimal literal (2725016544.py, line 1)",
     "output_type": "error",
     "traceback": [
      "\u001b[1;36m  Cell \u001b[1;32mIn[10], line 1\u001b[1;36m\u001b[0m\n\u001b[1;33m    6a = 78\u001b[0m\n\u001b[1;37m    ^\u001b[0m\n\u001b[1;31mSyntaxError\u001b[0m\u001b[1;31m:\u001b[0m invalid decimal literal\n"
     ]
    }
   ],
   "source": [
    "6a = 78\n",
    "6a"
   ]
  },
  {
   "cell_type": "code",
   "execution_count": 11,
   "id": "a4dd4ad2",
   "metadata": {
    "collapsed": true
   },
   "outputs": [
    {
     "data": {
      "text/plain": [
       "89"
      ]
     },
     "execution_count": 11,
     "metadata": {},
     "output_type": "execute_result"
    }
   ],
   "source": [
    "a6 = 89\n",
    "a6"
   ]
  },
  {
   "cell_type": "code",
   "execution_count": 12,
   "id": "259edeca",
   "metadata": {},
   "outputs": [
    {
     "name": "stderr",
     "output_type": "stream",
     "text": [
      "UsageError: Line magic function `%e` not found.\n"
     ]
    }
   ],
   "source": [
    "%e = 88\n",
    "%e"
   ]
  },
  {
   "cell_type": "code",
   "execution_count": 13,
   "id": "64ca6b02",
   "metadata": {},
   "outputs": [
    {
     "data": {
      "text/plain": [
       "3"
      ]
     },
     "execution_count": 13,
     "metadata": {},
     "output_type": "execute_result"
    }
   ],
   "source": [
    "_s = 3\n",
    "_s"
   ]
  },
  {
   "cell_type": "code",
   "execution_count": 14,
   "id": "8d52b86c",
   "metadata": {},
   "outputs": [
    {
     "data": {
      "text/plain": [
       "77"
      ]
     },
     "execution_count": 14,
     "metadata": {},
     "output_type": "execute_result"
    }
   ],
   "source": [
    "_a123 = 77\n",
    "_a123"
   ]
  },
  {
   "cell_type": "code",
   "execution_count": 17,
   "id": "f7278143",
   "metadata": {
    "collapsed": true
   },
   "outputs": [
    {
     "ename": "SyntaxError",
     "evalue": "cannot assign to True (841336326.py, line 1)",
     "output_type": "error",
     "traceback": [
      "\u001b[1;36m  Cell \u001b[1;32mIn[17], line 1\u001b[1;36m\u001b[0m\n\u001b[1;33m    True = 66\u001b[0m\n\u001b[1;37m    ^\u001b[0m\n\u001b[1;31mSyntaxError\u001b[0m\u001b[1;31m:\u001b[0m cannot assign to True\n"
     ]
    }
   ],
   "source": [
    "True = 66\n",
    "True"
   ]
  },
  {
   "cell_type": "code",
   "execution_count": 19,
   "id": "fde09596",
   "metadata": {
    "collapsed": true
   },
   "outputs": [
    {
     "data": {
      "text/plain": [
       "'python'"
      ]
     },
     "execution_count": 19,
     "metadata": {},
     "output_type": "execute_result"
    }
   ],
   "source": [
    "first_name = \"python\"\n",
    "first_name"
   ]
  },
  {
   "cell_type": "markdown",
   "id": "6d8ce37c",
   "metadata": {},
   "source": [
    "- Datatypes\n",
    "    - int :- 5,67,888,1367456783654783468\n",
    "    - float:-  7.8,3.6,7.8.......\n",
    "    - str:-  :- 'a','jhdju','3746','jksdhfk762354$#54'\n",
    "    - bool  :- True,False\n",
    "    - complex :-   a+bj (or) a+bi\n",
    "                   (a- real part, bi- imaginary part)"
   ]
  },
  {
   "cell_type": "code",
   "execution_count": 21,
   "id": "4a57a201",
   "metadata": {
    "collapsed": true
   },
   "outputs": [
    {
     "name": "stdout",
     "output_type": "stream",
     "text": [
      "56\n",
      "78\n"
     ]
    },
    {
     "data": {
      "text/plain": [
       "134"
      ]
     },
     "execution_count": 21,
     "metadata": {},
     "output_type": "execute_result"
    }
   ],
   "source": [
    "a,b = int(input()),int(input())\n",
    "a+b"
   ]
  },
  {
   "cell_type": "code",
   "execution_count": 32,
   "id": "dbb170d3",
   "metadata": {
    "collapsed": true
   },
   "outputs": [
    {
     "name": "stdout",
     "output_type": "stream",
     "text": [
      "Enter any number: 79678\n",
      "79678 <class 'int'>\n"
     ]
    }
   ],
   "source": [
    "# How to take Dynamic inputs\n",
    "# integer\n",
    "n = int(input('Enter any number: '))\n",
    "print(n,type(n))"
   ]
  },
  {
   "cell_type": "code",
   "execution_count": 31,
   "id": "80dc12fc",
   "metadata": {},
   "outputs": [
    {
     "name": "stdout",
     "output_type": "stream",
     "text": [
      "5.8\n",
      "5.8 <class 'float'>\n"
     ]
    }
   ],
   "source": [
    "# float\n",
    "f = float(input())\n",
    "print(f,type(f))"
   ]
  },
  {
   "cell_type": "code",
   "execution_count": 30,
   "id": "ebaeffd1",
   "metadata": {
    "collapsed": true
   },
   "outputs": [
    {
     "name": "stdout",
     "output_type": "stream",
     "text": [
      "Enter any string: 983475983478\n",
      "983475983478 <class 'str'>\n"
     ]
    }
   ],
   "source": [
    "# string\n",
    "s = str(input('Enter any string: '))\n",
    "print(s,type(s))"
   ]
  },
  {
   "cell_type": "code",
   "execution_count": 33,
   "id": "b38fe18b",
   "metadata": {
    "collapsed": true
   },
   "outputs": [
    {
     "name": "stdout",
     "output_type": "stream",
     "text": [
      "3487584\n",
      "3487584 <class 'str'>\n"
     ]
    }
   ],
   "source": [
    "# 2nd method to take input as string'\n",
    "s1 = input()\n",
    "print(s1,type(s1))"
   ]
  },
  {
   "cell_type": "code",
   "execution_count": 34,
   "id": "ad0bf139",
   "metadata": {},
   "outputs": [
    {
     "name": "stdout",
     "output_type": "stream",
     "text": [
      "True <class 'bool'>\n"
     ]
    }
   ],
   "source": [
    "# boolean\n",
    "a = True\n",
    "print(a,type(a))"
   ]
  },
  {
   "cell_type": "code",
   "execution_count": 39,
   "id": "d78b1f68",
   "metadata": {},
   "outputs": [
    {
     "name": "stdout",
     "output_type": "stream",
     "text": [
      "78\n",
      "(78+0j) <class 'complex'>\n"
     ]
    }
   ],
   "source": [
    "# complex\n",
    "a1 = complex(input())\n",
    "print(a1,type(a1))"
   ]
  },
  {
   "cell_type": "code",
   "execution_count": 36,
   "id": "066865ce",
   "metadata": {},
   "outputs": [
    {
     "name": "stdout",
     "output_type": "stream",
     "text": [
      "(7+0j)\n"
     ]
    }
   ],
   "source": [
    "print(complex('7'))"
   ]
  },
  {
   "cell_type": "code",
   "execution_count": 40,
   "id": "5c50918b",
   "metadata": {
    "collapsed": true
   },
   "outputs": [
    {
     "data": {
      "text/plain": [
       "8"
      ]
     },
     "execution_count": 40,
     "metadata": {},
     "output_type": "execute_result"
    }
   ],
   "source": [
    "# single variable  assignment\n",
    "s = 8\n",
    "s"
   ]
  },
  {
   "cell_type": "code",
   "execution_count": 45,
   "id": "35ca24db",
   "metadata": {
    "collapsed": true
   },
   "outputs": [
    {
     "name": "stdout",
     "output_type": "stream",
     "text": [
      "7 8 9\n"
     ]
    }
   ],
   "source": [
    "# mutiple variable assignment\n",
    "a,b,c = 7,8,9\n",
    "print(a,b,c)"
   ]
  },
  {
   "cell_type": "code",
   "execution_count": 47,
   "id": "b932f756",
   "metadata": {
    "collapsed": true
   },
   "outputs": [
    {
     "name": "stdout",
     "output_type": "stream",
     "text": [
      "8 8 8\n"
     ]
    }
   ],
   "source": [
    "a=b=c=8\n",
    "print(a,b,c)"
   ]
  },
  {
   "cell_type": "code",
   "execution_count": 49,
   "id": "f58214f8",
   "metadata": {},
   "outputs": [
    {
     "name": "stdout",
     "output_type": "stream",
     "text": [
      "7 8\n"
     ]
    }
   ],
   "source": [
    "a,b = 7,8\n",
    "print(a,b)"
   ]
  },
  {
   "cell_type": "code",
   "execution_count": null,
   "id": "1765732e",
   "metadata": {},
   "outputs": [],
   "source": []
  }
 ],
 "metadata": {
  "kernelspec": {
   "display_name": "Python 3 (ipykernel)",
   "language": "python",
   "name": "python3"
  },
  "language_info": {
   "codemirror_mode": {
    "name": "ipython",
    "version": 3
   },
   "file_extension": ".py",
   "mimetype": "text/x-python",
   "name": "python",
   "nbconvert_exporter": "python",
   "pygments_lexer": "ipython3",
   "version": "3.11.5"
  }
 },
 "nbformat": 4,
 "nbformat_minor": 5
}
