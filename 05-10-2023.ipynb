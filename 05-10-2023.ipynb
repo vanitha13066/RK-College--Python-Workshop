{
 "cells": [
  {
   "cell_type": "markdown",
   "id": "12228855",
   "metadata": {},
   "source": [
    "- tuple()\n",
    "    - It is used to store multiple items in a single variable\n",
    "    - It is immutable\n",
    "    - It can allow the duplicates\n",
    "    - Index starts with '0'\n",
    "    - It can allow any type of data\n",
    "    - Represented by (),values can be separated by ,"
   ]
  },
  {
   "cell_type": "code",
   "execution_count": 1,
   "id": "45ccf68f",
   "metadata": {},
   "outputs": [
    {
     "name": "stdout",
     "output_type": "stream",
     "text": [
      "() <class 'tuple'>\n"
     ]
    }
   ],
   "source": [
    "# empty tuple\n",
    "t = ()\n",
    "print(t,type(t))"
   ]
  },
  {
   "cell_type": "code",
   "execution_count": 3,
   "id": "4ced838d",
   "metadata": {},
   "outputs": [
    {
     "name": "stdout",
     "output_type": "stream",
     "text": [
      "(56, 78, 11, 78, 'as', 'hj', 5.7, 90, 56, 34, 78)\n"
     ]
    }
   ],
   "source": [
    "t1 = (56,78,11,78,\"as\",\"hj\",5.7,90,56,34,78)\n",
    "print(t1)"
   ]
  },
  {
   "cell_type": "code",
   "execution_count": 8,
   "id": "e57342cb",
   "metadata": {},
   "outputs": [
    {
     "name": "stdout",
     "output_type": "stream",
     "text": [
      "10 5.7 90 [5.7, 7.8, 11, 34, 56, 56, 78, 78, 78, 90] 494.5\n"
     ]
    }
   ],
   "source": [
    "t1 = (56,78,11,78,7.8,5.7,90,56,34,78)\n",
    "print(len(t1),min(t1),max(t1),sorted(t1),sum(t1))"
   ]
  },
  {
   "cell_type": "code",
   "execution_count": 9,
   "id": "4220969a",
   "metadata": {},
   "outputs": [
    {
     "ename": "TypeError",
     "evalue": "'tuple' object does not support item assignment",
     "output_type": "error",
     "traceback": [
      "\u001b[1;31m---------------------------------------------------------------------------\u001b[0m",
      "\u001b[1;31mTypeError\u001b[0m                                 Traceback (most recent call last)",
      "Cell \u001b[1;32mIn[9], line 1\u001b[0m\n\u001b[1;32m----> 1\u001b[0m t1[\u001b[38;5;241m2\u001b[39m]\u001b[38;5;241m=\u001b[39m\u001b[38;5;241m12\u001b[39m\n\u001b[0;32m      2\u001b[0m t1\n",
      "\u001b[1;31mTypeError\u001b[0m: 'tuple' object does not support item assignment"
     ]
    }
   ],
   "source": [
    "t1[2]=12\n",
    "t1"
   ]
  },
  {
   "cell_type": "code",
   "execution_count": 10,
   "id": "72f08439",
   "metadata": {
    "collapsed": true
   },
   "outputs": [
    {
     "name": "stdout",
     "output_type": "stream",
     "text": [
      "['__add__', '__class__', '__class_getitem__', '__contains__', '__delattr__', '__dir__', '__doc__', '__eq__', '__format__', '__ge__', '__getattribute__', '__getitem__', '__getnewargs__', '__getstate__', '__gt__', '__hash__', '__init__', '__init_subclass__', '__iter__', '__le__', '__len__', '__lt__', '__mul__', '__ne__', '__new__', '__reduce__', '__reduce_ex__', '__repr__', '__rmul__', '__setattr__', '__sizeof__', '__str__', '__subclasshook__', 'count', 'index'] "
     ]
    }
   ],
   "source": [
    "print(dir(tuple),end=' ')"
   ]
  },
  {
   "cell_type": "code",
   "execution_count": 13,
   "id": "66776456",
   "metadata": {
    "collapsed": true
   },
   "outputs": [
    {
     "name": "stdout",
     "output_type": "stream",
     "text": [
      "3\n",
      "1\n"
     ]
    }
   ],
   "source": [
    "# count(),index()\n",
    "t1 = (56,78,11,78,7.8,5.7,90,56,34,78)\n",
    "print(t1.count(78))\n",
    "print(t1.index(78))"
   ]
  },
  {
   "cell_type": "code",
   "execution_count": 14,
   "id": "6ee69ca1",
   "metadata": {},
   "outputs": [
    {
     "name": "stdout",
     "output_type": "stream",
     "text": [
      "56 78 11 78 7.8 5.7 90 56 34 78 "
     ]
    }
   ],
   "source": [
    "t1 = (56,78,11,78,7.8,5.7,90,56,34,78)\n",
    "for i in t1:\n",
    "    print(i,end=' ')"
   ]
  },
  {
   "cell_type": "code",
   "execution_count": 17,
   "id": "421c5abb",
   "metadata": {},
   "outputs": [
    {
     "data": {
      "text/plain": [
       "[56, 78, 11, 78, 7.8, 5.7, 90, 56, 34, 78]"
      ]
     },
     "execution_count": 17,
     "metadata": {},
     "output_type": "execute_result"
    }
   ],
   "source": [
    "# conversion of tuple to list\n",
    "list(t1)"
   ]
  },
  {
   "cell_type": "markdown",
   "id": "372d9daa",
   "metadata": {},
   "source": [
    "### dictionary\n",
    "    - It is a key value pair\n",
    "    - It is mutable\n",
    "    - keys doesn't allow the duplicates\n",
    "    - values can allow the duplicates\n",
    "    - We can store any type of data\n",
    "    - Represented by {},keys and values can be separated by :"
   ]
  },
  {
   "cell_type": "code",
   "execution_count": 18,
   "id": "1bfc602e",
   "metadata": {},
   "outputs": [
    {
     "name": "stdout",
     "output_type": "stream",
     "text": [
      "{} <class 'dict'>\n"
     ]
    }
   ],
   "source": [
    "# empty dict\n",
    "d = {}\n",
    "print(d,type(d))"
   ]
  },
  {
   "cell_type": "code",
   "execution_count": 19,
   "id": "604cb512",
   "metadata": {
    "collapsed": true
   },
   "outputs": [
    {
     "name": "stdout",
     "output_type": "stream",
     "text": [
      "{5: 78, 9: 34, 8: 39, 'a': 74, 'python': 'workshop', 8.6: 'c'}\n"
     ]
    }
   ],
   "source": [
    "d = {5:78,9:34,8:39,\"a\":74,\"python\":\"workshop\",8.6:\"c\"}\n",
    "print(d)"
   ]
  },
  {
   "cell_type": "code",
   "execution_count": 22,
   "id": "51b8ca1b",
   "metadata": {
    "collapsed": true
   },
   "outputs": [
    {
     "name": "stdout",
     "output_type": "stream",
     "text": [
      "6\n"
     ]
    }
   ],
   "source": [
    "print(len(d))"
   ]
  },
  {
   "cell_type": "code",
   "execution_count": 26,
   "id": "4cf45e38",
   "metadata": {},
   "outputs": [
    {
     "name": "stdout",
     "output_type": "stream",
     "text": [
      "5 9 [5, 6, 8, 8.6, 9] 36.6\n"
     ]
    }
   ],
   "source": [
    "d1 = {5:78,9:34,8:39,8.6:\"c\",6:88}\n",
    "print(min(d1),max(d1),sorted(d1),sum(d1))"
   ]
  },
  {
   "cell_type": "code",
   "execution_count": 30,
   "id": "513b0746",
   "metadata": {
    "collapsed": true
   },
   "outputs": [
    {
     "name": "stdout",
     "output_type": "stream",
     "text": [
      "{5: 1, 9: 34, 8: 39, 8.6: 'c', 6: 88}\n"
     ]
    }
   ],
   "source": [
    "# keys doesn't allow the duplicates\n",
    "d1 = {5:78,9:34,8:39,8.6:\"c\",6:88,5:15,5:1}\n",
    "print(d1)"
   ]
  },
  {
   "cell_type": "code",
   "execution_count": 31,
   "id": "ab157e66",
   "metadata": {
    "collapsed": true
   },
   "outputs": [
    {
     "name": "stdout",
     "output_type": "stream",
     "text": [
      "{5: 1, 9: 39, 8: 39, 8.6: 'c', 6: 88}\n"
     ]
    }
   ],
   "source": [
    "d1 = {5:78,9:39,8:39,8.6:\"c\",6:88,5:15,5:1}\n",
    "print(d1)"
   ]
  },
  {
   "cell_type": "code",
   "execution_count": 32,
   "id": "62bc834b",
   "metadata": {
    "collapsed": true
   },
   "outputs": [
    {
     "name": "stdout",
     "output_type": "stream",
     "text": [
      "['__class__', '__class_getitem__', '__contains__', '__delattr__', '__delitem__', '__dir__', '__doc__', '__eq__', '__format__', '__ge__', '__getattribute__', '__getitem__', '__getstate__', '__gt__', '__hash__', '__init__', '__init_subclass__', '__ior__', '__iter__', '__le__', '__len__', '__lt__', '__ne__', '__new__', '__or__', '__reduce__', '__reduce_ex__', '__repr__', '__reversed__', '__ror__', '__setattr__', '__setitem__', '__sizeof__', '__str__', '__subclasshook__', 'clear', 'copy', 'fromkeys', 'get', 'items', 'keys', 'pop', 'popitem', 'setdefault', 'update', 'values'] "
     ]
    }
   ],
   "source": [
    "print(dir(dict),end=' ')"
   ]
  },
  {
   "cell_type": "code",
   "execution_count": 33,
   "id": "f6c87617",
   "metadata": {
    "collapsed": true
   },
   "outputs": [
    {
     "data": {
      "text/plain": [
       "'c'"
      ]
     },
     "execution_count": 33,
     "metadata": {},
     "output_type": "execute_result"
    }
   ],
   "source": [
    "# accessing values \n",
    "# get()\n",
    "d1 = {5:78,9:34,8:39,8.6:\"c\",6:88,5:15,5:1}\n",
    "d1.get(8.6)"
   ]
  },
  {
   "cell_type": "code",
   "execution_count": 36,
   "id": "1cc2b759",
   "metadata": {
    "collapsed": true
   },
   "outputs": [
    {
     "name": "stdout",
     "output_type": "stream",
     "text": [
      "dict_keys([5, 9, 8, 8.6, 6])\n",
      "dict_values([1, 34, 39, 'c', 88])\n",
      "dict_items([(5, 1), (9, 34), (8, 39), (8.6, 'c'), (6, 88)])\n"
     ]
    }
   ],
   "source": [
    "# keys(),values(),items()\n",
    "print(d1.keys())\n",
    "print(d1.values())\n",
    "print(d1.items())"
   ]
  },
  {
   "cell_type": "code",
   "execution_count": 37,
   "id": "32bf8515",
   "metadata": {},
   "outputs": [
    {
     "name": "stdout",
     "output_type": "stream",
     "text": [
      "{5: 1, 9: 34, 8: 39, 8.6: 'c', 6: 88, 78: 90}\n"
     ]
    }
   ],
   "source": [
    "# adding the new key and new value to the dictionary\n",
    "d1[78]=90\n",
    "print(d1)"
   ]
  },
  {
   "cell_type": "code",
   "execution_count": 44,
   "id": "12891dca",
   "metadata": {},
   "outputs": [
    {
     "data": {
      "text/plain": [
       "{5: 1, 9: 34, 8: 39, 6: 88, 78: 90}"
      ]
     },
     "execution_count": 44,
     "metadata": {},
     "output_type": "execute_result"
    }
   ],
   "source": [
    "d1"
   ]
  },
  {
   "cell_type": "code",
   "execution_count": 45,
   "id": "7b682b3b",
   "metadata": {
    "collapsed": true
   },
   "outputs": [
    {
     "data": {
      "text/plain": [
       "39"
      ]
     },
     "execution_count": 45,
     "metadata": {},
     "output_type": "execute_result"
    }
   ],
   "source": [
    "d1.pop(8)"
   ]
  },
  {
   "cell_type": "code",
   "execution_count": 46,
   "id": "f3af9a9c",
   "metadata": {},
   "outputs": [
    {
     "data": {
      "text/plain": [
       "{5: 1, 9: 34, 6: 88, 78: 90}"
      ]
     },
     "execution_count": 46,
     "metadata": {},
     "output_type": "execute_result"
    }
   ],
   "source": [
    "d1"
   ]
  },
  {
   "cell_type": "code",
   "execution_count": 47,
   "id": "7ad76742",
   "metadata": {},
   "outputs": [
    {
     "data": {
      "text/plain": [
       "{5: 1, 9: 34, 6: 88}"
      ]
     },
     "execution_count": 47,
     "metadata": {},
     "output_type": "execute_result"
    }
   ],
   "source": [
    "# popitem()\n",
    "d1.popitem()\n",
    "d1"
   ]
  },
  {
   "cell_type": "code",
   "execution_count": 48,
   "id": "7bc9c0a3",
   "metadata": {
    "collapsed": true
   },
   "outputs": [
    {
     "name": "stdout",
     "output_type": "stream",
     "text": [
      "{5: 1, 9: 56, 6: 88}\n"
     ]
    }
   ],
   "source": [
    "# update()\n",
    "d1.update({9:56})\n",
    "print(d1)"
   ]
  },
  {
   "cell_type": "code",
   "execution_count": 49,
   "id": "da367e52",
   "metadata": {},
   "outputs": [
    {
     "name": "stdout",
     "output_type": "stream",
     "text": [
      "{5: 1, 9: 56, 6: 88} {5: 1, 9: 56, 6: 88}\n"
     ]
    }
   ],
   "source": [
    "# copy()\n",
    "d2 = d1.copy()\n",
    "print(d1,d2)"
   ]
  },
  {
   "cell_type": "code",
   "execution_count": 50,
   "id": "b421e74b",
   "metadata": {},
   "outputs": [],
   "source": [
    "# clear()\n",
    "d1.clear()"
   ]
  },
  {
   "cell_type": "code",
   "execution_count": 51,
   "id": "b2bf174b",
   "metadata": {
    "collapsed": true
   },
   "outputs": [
    {
     "data": {
      "text/plain": [
       "{}"
      ]
     },
     "execution_count": 51,
     "metadata": {},
     "output_type": "execute_result"
    }
   ],
   "source": [
    "d1"
   ]
  },
  {
   "cell_type": "code",
   "execution_count": 52,
   "id": "fb72baa7",
   "metadata": {
    "collapsed": true
   },
   "outputs": [
    {
     "name": "stdout",
     "output_type": "stream",
     "text": [
      "5\n",
      "9\n",
      "6\n"
     ]
    }
   ],
   "source": [
    "di = {5: 1, 9: 56, 6: 88}\n",
    "for i in di:\n",
    "    print(i)"
   ]
  },
  {
   "cell_type": "code",
   "execution_count": 53,
   "id": "a314ffa6",
   "metadata": {
    "collapsed": true
   },
   "outputs": [
    {
     "name": "stdout",
     "output_type": "stream",
     "text": [
      "1\n",
      "56\n",
      "88\n"
     ]
    }
   ],
   "source": [
    "di = {5: 1, 9: 56, 6: 88}\n",
    "for i in di.values():\n",
    "    print(i)"
   ]
  },
  {
   "cell_type": "code",
   "execution_count": 54,
   "id": "a71d09b1",
   "metadata": {},
   "outputs": [
    {
     "name": "stdout",
     "output_type": "stream",
     "text": [
      "{6: 36, 7: 49, 8: 64, 1: 1, 2: 4, 4: 16}\n"
     ]
    }
   ],
   "source": [
    "# i/p: li = {6,7,8,1,2,4}\n",
    "# o/p: {6:36, 7:49, 8:64 ,1 :1, 2:4, 4:16}\n",
    "li = [6,7,8,1,2,4]\n",
    "di = {}\n",
    "for i in li:  # i=6\n",
    "    di[i]=i**2  # di[6]=36 7=49 8=64 .......\n",
    "print(di)"
   ]
  },
  {
   "cell_type": "code",
   "execution_count": 55,
   "id": "f06f8f6d",
   "metadata": {
    "collapsed": true
   },
   "outputs": [
    {
     "name": "stdout",
     "output_type": "stream",
     "text": [
      "20\n",
      "{1: 1, 2: 8, 3: 27, 4: 64, 5: 125, 6: 216, 7: 343, 8: 512, 9: 729, 10: 1000, 11: 1331, 12: 1728, 13: 2197, 14: 2744, 15: 3375, 16: 4096, 17: 4913, 18: 5832, 19: 6859, 20: 8000}\n"
     ]
    }
   ],
   "source": [
    "# i/p: 10\n",
    "# o/p: {1:1,2:8,3:27..............10:1000}\n",
    "n = int(input())\n",
    "d = {}\n",
    "for i in range(1,n+1):\n",
    "    d[i]=i**3\n",
    "print(d)"
   ]
  },
  {
   "cell_type": "markdown",
   "id": "64015956",
   "metadata": {},
   "source": [
    "### set()\n",
    "    - It is a collection which is unorderd and unindexed\n",
    "    - Set is itself mutable\n",
    "    - It doesn't allow the duplicates\n",
    "    - It can store any type of data\n",
    "    - Represented by {}, values can be separted by ,"
   ]
  },
  {
   "cell_type": "code",
   "execution_count": 57,
   "id": "0997b89a",
   "metadata": {
    "collapsed": true
   },
   "outputs": [
    {
     "name": "stdout",
     "output_type": "stream",
     "text": [
      "{8, 4} <class 'set'>\n"
     ]
    }
   ],
   "source": [
    "s = {4,8}\n",
    "print(s,type(s))"
   ]
  },
  {
   "cell_type": "code",
   "execution_count": 58,
   "id": "abf1ef60",
   "metadata": {
    "collapsed": true
   },
   "outputs": [
    {
     "name": "stdout",
     "output_type": "stream",
     "text": [
      "{1, 2, 3, 7, 8, 9}\n"
     ]
    }
   ],
   "source": [
    "s1 = {7,8,1,2,3,2,3,1,2,1,2,1,1,2,2,9}\n",
    "print(s1)"
   ]
  },
  {
   "cell_type": "code",
   "execution_count": 59,
   "id": "09319171",
   "metadata": {},
   "outputs": [
    {
     "name": "stdout",
     "output_type": "stream",
     "text": [
      "['__and__', '__class__', '__class_getitem__', '__contains__', '__delattr__', '__dir__', '__doc__', '__eq__', '__format__', '__ge__', '__getattribute__', '__getstate__', '__gt__', '__hash__', '__iand__', '__init__', '__init_subclass__', '__ior__', '__isub__', '__iter__', '__ixor__', '__le__', '__len__', '__lt__', '__ne__', '__new__', '__or__', '__rand__', '__reduce__', '__reduce_ex__', '__repr__', '__ror__', '__rsub__', '__rxor__', '__setattr__', '__sizeof__', '__str__', '__sub__', '__subclasshook__', '__xor__', 'add', 'clear', 'copy', 'difference', 'difference_update', 'discard', 'intersection', 'intersection_update', 'isdisjoint', 'issubset', 'issuperset', 'pop', 'remove', 'symmetric_difference', 'symmetric_difference_update', 'union', 'update'] "
     ]
    }
   ],
   "source": [
    "print(dir(set),end=' ')"
   ]
  },
  {
   "cell_type": "code",
   "execution_count": 60,
   "id": "91578ad0",
   "metadata": {},
   "outputs": [
    {
     "data": {
      "text/plain": [
       "{1, 3, 4, 5, 6, 12, 67, 68, 98}"
      ]
     },
     "execution_count": 60,
     "metadata": {},
     "output_type": "execute_result"
    }
   ],
   "source": [
    "# add()\n",
    "s1 = {3,4,5,12,67,98,5,6,5,6,1}\n",
    "s1.add(68)\n",
    "s1"
   ]
  },
  {
   "cell_type": "code",
   "execution_count": 3,
   "id": "915e9f09",
   "metadata": {},
   "outputs": [
    {
     "name": "stdout",
     "output_type": "stream",
     "text": [
      "{98, 3, 67, 4, 5, 12} {98, 3, 67, 4, 5, 12}\n"
     ]
    }
   ],
   "source": [
    "# copy()\n",
    "s1 = {3,4,5,12,67,98}\n",
    "s2 = s1.copy()\n",
    "print(s1,s2)"
   ]
  },
  {
   "cell_type": "code",
   "execution_count": 4,
   "id": "9fa3ecb2",
   "metadata": {},
   "outputs": [
    {
     "data": {
      "text/plain": [
       "98"
      ]
     },
     "execution_count": 4,
     "metadata": {},
     "output_type": "execute_result"
    }
   ],
   "source": [
    "# pop() # it delete's random element in a set\n",
    "s1.pop()"
   ]
  },
  {
   "cell_type": "code",
   "execution_count": 5,
   "id": "8946a4ec",
   "metadata": {},
   "outputs": [
    {
     "data": {
      "text/plain": [
       "{3, 4, 5, 12, 67}"
      ]
     },
     "execution_count": 5,
     "metadata": {},
     "output_type": "execute_result"
    }
   ],
   "source": [
    "s1"
   ]
  },
  {
   "cell_type": "code",
   "execution_count": 6,
   "id": "aaa900ad",
   "metadata": {},
   "outputs": [
    {
     "data": {
      "text/plain": [
       "{3, 4, 5, 67}"
      ]
     },
     "execution_count": 6,
     "metadata": {},
     "output_type": "execute_result"
    }
   ],
   "source": [
    "# discard()\n",
    "s1.discard(12)\n",
    "s1"
   ]
  },
  {
   "cell_type": "code",
   "execution_count": 7,
   "id": "fe0c5eaa",
   "metadata": {
    "collapsed": true
   },
   "outputs": [
    {
     "data": {
      "text/plain": [
       "{3, 4, 67}"
      ]
     },
     "execution_count": 7,
     "metadata": {},
     "output_type": "execute_result"
    }
   ],
   "source": [
    "# remove()\n",
    "s1.remove(5)\n",
    "s1"
   ]
  },
  {
   "cell_type": "code",
   "execution_count": 12,
   "id": "7f92bf6d",
   "metadata": {},
   "outputs": [],
   "source": [
    "# discard---> It will not raise the error\n",
    "s1.discard(12)"
   ]
  },
  {
   "cell_type": "code",
   "execution_count": 9,
   "id": "1019de6e",
   "metadata": {
    "collapsed": true
   },
   "outputs": [
    {
     "ename": "KeyError",
     "evalue": "5",
     "output_type": "error",
     "traceback": [
      "\u001b[1;31m---------------------------------------------------------------------------\u001b[0m",
      "\u001b[1;31mKeyError\u001b[0m                                  Traceback (most recent call last)",
      "Cell \u001b[1;32mIn[9], line 2\u001b[0m\n\u001b[0;32m      1\u001b[0m \u001b[38;5;66;03m# remove()---> It will raise the error\u001b[39;00m\n\u001b[1;32m----> 2\u001b[0m s1\u001b[38;5;241m.\u001b[39mremove(\u001b[38;5;241m5\u001b[39m)\n",
      "\u001b[1;31mKeyError\u001b[0m: 5"
     ]
    }
   ],
   "source": [
    "# remove()---> It will raise the error\n",
    "s1.remove(5)"
   ]
  },
  {
   "cell_type": "code",
   "execution_count": 14,
   "id": "0cb98169",
   "metadata": {},
   "outputs": [
    {
     "data": {
      "text/plain": [
       "{1, 2, 3, 4, 5, 6, 12, 51, 56, 78}"
      ]
     },
     "execution_count": 14,
     "metadata": {},
     "output_type": "execute_result"
    }
   ],
   "source": [
    "# union()\n",
    "a,b = {4,5,6,56,1,12,56},{51,78,1,1,1,5,2,3,5}\n",
    "a.union(b)"
   ]
  },
  {
   "cell_type": "code",
   "execution_count": 15,
   "id": "e488deaf",
   "metadata": {},
   "outputs": [
    {
     "data": {
      "text/plain": [
       "{1, 2, 3, 4, 5, 6, 12, 51, 56, 78}"
      ]
     },
     "execution_count": 15,
     "metadata": {},
     "output_type": "execute_result"
    }
   ],
   "source": [
    "b.union(a)"
   ]
  },
  {
   "cell_type": "code",
   "execution_count": 16,
   "id": "1e5ea6cc",
   "metadata": {},
   "outputs": [
    {
     "data": {
      "text/plain": [
       "{1, 5}"
      ]
     },
     "execution_count": 16,
     "metadata": {},
     "output_type": "execute_result"
    }
   ],
   "source": [
    "# intersection()\n",
    "a.intersection(b)"
   ]
  },
  {
   "cell_type": "code",
   "execution_count": 17,
   "id": "d36e6f30",
   "metadata": {},
   "outputs": [
    {
     "data": {
      "text/plain": [
       "{1, 5}"
      ]
     },
     "execution_count": 17,
     "metadata": {},
     "output_type": "execute_result"
    }
   ],
   "source": [
    "b.intersection(a)"
   ]
  },
  {
   "cell_type": "code",
   "execution_count": 18,
   "id": "a72806e4",
   "metadata": {},
   "outputs": [
    {
     "data": {
      "text/plain": [
       "{4, 6, 12, 56}"
      ]
     },
     "execution_count": 18,
     "metadata": {},
     "output_type": "execute_result"
    }
   ],
   "source": [
    "# difference()\n",
    "a,b = {4,5,6,56,1,12,56},{51,78,1,1,1,5,2,3,5}\n",
    "a.difference(b)"
   ]
  },
  {
   "cell_type": "code",
   "execution_count": 19,
   "id": "3ee268f6",
   "metadata": {},
   "outputs": [
    {
     "data": {
      "text/plain": [
       "{2, 3, 51, 78}"
      ]
     },
     "execution_count": 19,
     "metadata": {},
     "output_type": "execute_result"
    }
   ],
   "source": [
    "b.difference(a)"
   ]
  },
  {
   "cell_type": "code",
   "execution_count": 21,
   "id": "387c8ae4",
   "metadata": {
    "collapsed": true
   },
   "outputs": [
    {
     "name": "stdout",
     "output_type": "stream",
     "text": [
      "False\n"
     ]
    }
   ],
   "source": [
    "# isdisjoint()\n",
    "x = {\"a\",\"b\",\"c\"}\n",
    "y = {\"d\",\"e\",\"a\"}\n",
    "z = x.isdisjoint(y)\n",
    "print(z)"
   ]
  },
  {
   "cell_type": "markdown",
   "id": "b7dfbeaf",
   "metadata": {},
   "source": [
    "###### References\n",
    "---------------------------\n",
    "www.w3schools.com\n",
    "www.javatpoint.com"
   ]
  },
  {
   "cell_type": "code",
   "execution_count": 30,
   "id": "bfa7f40a",
   "metadata": {},
   "outputs": [
    {
     "name": "stdout",
     "output_type": "stream",
     "text": [
      "{16, 100, 64, 36}\n"
     ]
    }
   ],
   "source": [
    "# li = [6,7,3,4,71,17,8,9,10]\n",
    "# o/p: {16,36,64,100}\n",
    "li = [6,7,3,4,71,17,8,9,10]\n",
    "f = set()\n",
    "for j in li:\n",
    "    if(j%2==0):\n",
    "        f.add(j**2)\n",
    "print(f)"
   ]
  },
  {
   "cell_type": "code",
   "execution_count": 2,
   "id": "a09c66c9",
   "metadata": {},
   "outputs": [
    {
     "name": "stdout",
     "output_type": "stream",
     "text": [
      "File created successfully\n"
     ]
    }
   ],
   "source": [
    "#### files\n",
    "# Create empty text file \n",
    "f = open('data.txt','w')\n",
    "print(\"File created successfully\")\n",
    "f.close()"
   ]
  },
  {
   "cell_type": "code",
   "execution_count": 4,
   "id": "8f800eda",
   "metadata": {
    "collapsed": true
   },
   "outputs": [
    {
     "name": "stdout",
     "output_type": "stream",
     "text": [
      "success\n"
     ]
    }
   ],
   "source": [
    "# adding the data to a text file\n",
    "f = open('data.txt','w')\n",
    "f.write(\"hi hello good afternoon\")\n",
    "print(\"success\")\n",
    "f.close()"
   ]
  },
  {
   "cell_type": "code",
   "execution_count": 14,
   "id": "83abfb72",
   "metadata": {},
   "outputs": [
    {
     "name": "stdout",
     "output_type": "stream",
     "text": [
      "success\n"
     ]
    }
   ],
   "source": [
    "f = open('data.txt','w')\n",
    "f.write('name:python'+'\\n'+'roll no:7346'+'\\n'+'branch:ece'+'\\n')\n",
    "print(\"success\")\n",
    "f.close()"
   ]
  },
  {
   "cell_type": "code",
   "execution_count": 15,
   "id": "9a374e9c",
   "metadata": {
    "collapsed": true
   },
   "outputs": [
    {
     "name": "stdout",
     "output_type": "stream",
     "text": [
      "name:python\n",
      "roll no:7346\n",
      "branch:ece\n",
      "\n"
     ]
    }
   ],
   "source": [
    "# Print the data in a text file\n",
    "# read()\n",
    "f2 = open('data.txt','r')\n",
    "d = f2.read()\n",
    "print(d)"
   ]
  },
  {
   "cell_type": "code",
   "execution_count": 16,
   "id": "710f88ff",
   "metadata": {
    "collapsed": true
   },
   "outputs": [
    {
     "name": "stdout",
     "output_type": "stream",
     "text": [
      "success\n"
     ]
    }
   ],
   "source": [
    "# append()\n",
    "f4 = open('data.txt','a')\n",
    "f4.write('course:da workshop')\n",
    "f4.close()\n",
    "print('success')"
   ]
  },
  {
   "cell_type": "code",
   "execution_count": 21,
   "id": "2645631e",
   "metadata": {
    "collapsed": true
   },
   "outputs": [
    {
     "name": "stdout",
     "output_type": "stream",
     "text": [
      "name:\n",
      "pyt\n",
      "hon\n",
      "r\n"
     ]
    }
   ],
   "source": [
    "# read the n no of characters in a file\n",
    "f4 = open('data.txt','r')\n",
    "print(f4.read(5))\n",
    "print(f4.read(3))\n",
    "print(f4.read(5))"
   ]
  },
  {
   "cell_type": "code",
   "execution_count": 23,
   "id": "adadefdd",
   "metadata": {
    "collapsed": true
   },
   "outputs": [
    {
     "name": "stdout",
     "output_type": "stream",
     "text": [
      "name:python\n",
      "roll no:7346\n",
      "branch:ece\n",
      "course:da workshop\n"
     ]
    }
   ],
   "source": [
    "# with() # by using with function we no need to close the file\n",
    "with open('data.txt') as f:\n",
    "    print(f.read())"
   ]
  },
  {
   "cell_type": "code",
   "execution_count": 24,
   "id": "d28048b5",
   "metadata": {
    "collapsed": true
   },
   "outputs": [
    {
     "name": "stdout",
     "output_type": "stream",
     "text": [
      "name:python\n",
      "\n"
     ]
    }
   ],
   "source": [
    "# readline()  # It print's only 1st line of the file\n",
    "with open('data.txt') as f1:\n",
    "    print(f1.readline())"
   ]
  },
  {
   "cell_type": "code",
   "execution_count": 25,
   "id": "a3e69c26",
   "metadata": {
    "collapsed": true
   },
   "outputs": [
    {
     "name": "stdout",
     "output_type": "stream",
     "text": [
      "['name:python\\n', 'roll no:7346\\n', 'branch:ece\\n', 'course:da workshop']\n"
     ]
    }
   ],
   "source": [
    "# readlines()---> It print's entire lines in a file\n",
    "with open('data.txt') as f1:\n",
    "    print(f1.readlines())"
   ]
  },
  {
   "cell_type": "code",
   "execution_count": 27,
   "id": "5dc193bb",
   "metadata": {
    "collapsed": true
   },
   "outputs": [
    {
     "name": "stdout",
     "output_type": "stream",
     "text": [
      "54\n"
     ]
    }
   ],
   "source": [
    "# Total no of characters in a file\n",
    "with open('data.txt') as f2:\n",
    "    print(len(f2.read()))"
   ]
  },
  {
   "cell_type": "code",
   "execution_count": 28,
   "id": "8d0295c4",
   "metadata": {
    "collapsed": true
   },
   "outputs": [
    {
     "name": "stdout",
     "output_type": "stream",
     "text": [
      "4\n"
     ]
    }
   ],
   "source": [
    "# Total no of lines in a file\n",
    "with open('data.txt') as f3:\n",
    "    print(len(f3.readlines()))"
   ]
  },
  {
   "cell_type": "code",
   "execution_count": 4,
   "id": "3db87020",
   "metadata": {
    "collapsed": true
   },
   "outputs": [
    {
     "name": "stdout",
     "output_type": "stream",
     "text": [
      "no of spaces:  13\n"
     ]
    }
   ],
   "source": [
    "# total no of spaces in a file\n",
    "with open('data.txt') as f1:\n",
    "    sp=0\n",
    "    for i in f1.read():\n",
    "        if i.isspace():\n",
    "            sp=sp+1\n",
    "print(\"no of spaces: \",sp)"
   ]
  },
  {
   "cell_type": "code",
   "execution_count": 10,
   "id": "3f8e7990",
   "metadata": {
    "collapsed": true
   },
   "outputs": [
    {
     "name": "stdout",
     "output_type": "stream",
     "text": [
      "2\n",
      "me \n",
      ": py\n"
     ]
    }
   ],
   "source": [
    "# seek() :- This function is used to change the curser position \n",
    "with open('data.txt') as f2:\n",
    "    print(f2.seek(2))\n",
    "    print(f2.read(3))\n",
    "    print(f2.read(4))"
   ]
  },
  {
   "cell_type": "code",
   "execution_count": 14,
   "id": "38e9193c",
   "metadata": {
    "collapsed": true
   },
   "outputs": [
    {
     "name": "stdout",
     "output_type": "stream",
     "text": [
      "5\n",
      ": p\n",
      "8\n"
     ]
    }
   ],
   "source": [
    "# tell():-   This function returns the current position \n",
    "with open('data.txt') as f2:\n",
    "    print(f2.seek(5))\n",
    "    print(f2.read(3))\n",
    "    print(f2.tell())"
   ]
  },
  {
   "cell_type": "code",
   "execution_count": 16,
   "id": "4e834e09",
   "metadata": {
    "collapsed": true
   },
   "outputs": [
    {
     "name": "stdout",
     "output_type": "stream",
     "text": [
      "['name', ':', 'python', 'roll', 'no', ':', '7346', 'branch', ':', 'ece', 'course', ':', 'da', 'workshop']\n"
     ]
    }
   ],
   "source": [
    "# split()\n",
    "with open('data.txt') as f3:\n",
    "    print(f3.read().split())"
   ]
  },
  {
   "cell_type": "code",
   "execution_count": 18,
   "id": "bef41fd0",
   "metadata": {
    "collapsed": true
   },
   "outputs": [
    {
     "name": "stdout",
     "output_type": "stream",
     "text": [
      "14\n"
     ]
    }
   ],
   "source": [
    "# Count the total no of words in a file\n",
    "with open('data.txt') as f:\n",
    "    print(len(f.read().split()))"
   ]
  },
  {
   "cell_type": "code",
   "execution_count": 20,
   "id": "239e46fe",
   "metadata": {
    "collapsed": true
   },
   "outputs": [
    {
     "name": "stdout",
     "output_type": "stream",
     "text": [
      "False\n"
     ]
    }
   ],
   "source": [
    "# file existed or not\n",
    "import os\n",
    "print(os.path.exists('data1.txt'))"
   ]
  },
  {
   "cell_type": "code",
   "execution_count": 23,
   "id": "b79273a5",
   "metadata": {
    "collapsed": true
   },
   "outputs": [
    {
     "name": "stdout",
     "output_type": "stream",
     "text": [
      "Enter your file name: file.txt\n",
      "file does not exist\n"
     ]
    }
   ],
   "source": [
    "# Remove the file\n",
    "import os\n",
    "filename = input('Enter your file name: ')\n",
    "if os.path.exists(filename):\n",
    "    print(\"Yes\")\n",
    "    os.remove(filename)\n",
    "    print('file removed successfully')\n",
    "else:\n",
    "    print(\"file does not exist\")"
   ]
  },
  {
   "cell_type": "code",
   "execution_count": 29,
   "id": "932df960",
   "metadata": {},
   "outputs": [
    {
     "name": "stdout",
     "output_type": "stream",
     "text": [
      "Enter name: ksdjfrk\n",
      "Enter roll no: 3948930\n",
      "Enter aadhar no: 902384093\n",
      "Enter email id: kjdlkfjd\n",
      "Enter mobile number: 3094893\n",
      "Enter name: mdnfj\n",
      "Enter roll no: 30948309\n",
      "Enter aadhar no: 09384093849\n",
      "Enter email id: lksdhflkd\n",
      "Enter mobile number: 9832759834\n"
     ]
    }
   ],
   "source": [
    "# To store n student records\n",
    "with open('students.txt','a') as f:\n",
    "    for i in range(1,3):\n",
    "        name = input('Enter name: ')\n",
    "        roll_no = input('Enter roll no: ')\n",
    "        aadhar = input('Enter aadhar no: ')\n",
    "        email = input('Enter email id: ')\n",
    "        mbl = input('Enter mobile number: ')\n",
    "        f.write(name+'\\n'+roll_no+'\\n'+aadhar+'\\n'+email+'\\n'+mbl+'\\n')"
   ]
  },
  {
   "cell_type": "code",
   "execution_count": null,
   "id": "a67b85f0",
   "metadata": {},
   "outputs": [],
   "source": []
  }
 ],
 "metadata": {
  "kernelspec": {
   "display_name": "Python 3 (ipykernel)",
   "language": "python",
   "name": "python3"
  },
  "language_info": {
   "codemirror_mode": {
    "name": "ipython",
    "version": 3
   },
   "file_extension": ".py",
   "mimetype": "text/x-python",
   "name": "python",
   "nbconvert_exporter": "python",
   "pygments_lexer": "ipython3",
   "version": "3.11.5"
  }
 },
 "nbformat": 4,
 "nbformat_minor": 5
}
